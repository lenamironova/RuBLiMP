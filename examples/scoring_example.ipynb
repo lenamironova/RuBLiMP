{
 "cells": [
  {
   "cell_type": "code",
   "execution_count": 1,
   "metadata": {
    "id": "UnvyQbdBJemf"
   },
   "outputs": [
    {
     "name": "stdout",
     "output_type": "stream",
     "text": [
      "Requirement already satisfied: transformers in c:\\users\\kstat\\rublimp\\.venv\\lib\\site-packages (4.56.2)\n",
      "Requirement already satisfied: datasets in c:\\users\\kstat\\rublimp\\.venv\\lib\\site-packages (4.1.1)\n",
      "Requirement already satisfied: filelock in c:\\users\\kstat\\rublimp\\.venv\\lib\\site-packages (from transformers) (3.19.1)\n",
      "Requirement already satisfied: huggingface-hub<1.0,>=0.34.0 in c:\\users\\kstat\\rublimp\\.venv\\lib\\site-packages (from transformers) (0.35.0)\n",
      "Requirement already satisfied: numpy>=1.17 in c:\\users\\kstat\\rublimp\\.venv\\lib\\site-packages (from transformers) (2.3.3)\n",
      "Requirement already satisfied: packaging>=20.0 in c:\\users\\kstat\\rublimp\\.venv\\lib\\site-packages (from transformers) (25.0)\n",
      "Requirement already satisfied: pyyaml>=5.1 in c:\\users\\kstat\\rublimp\\.venv\\lib\\site-packages (from transformers) (6.0.2)\n",
      "Requirement already satisfied: regex!=2019.12.17 in c:\\users\\kstat\\rublimp\\.venv\\lib\\site-packages (from transformers) (2025.9.18)\n",
      "Requirement already satisfied: requests in c:\\users\\kstat\\rublimp\\.venv\\lib\\site-packages (from transformers) (2.32.5)\n",
      "Requirement already satisfied: tokenizers<=0.23.0,>=0.22.0 in c:\\users\\kstat\\rublimp\\.venv\\lib\\site-packages (from transformers) (0.22.1)\n",
      "Requirement already satisfied: safetensors>=0.4.3 in c:\\users\\kstat\\rublimp\\.venv\\lib\\site-packages (from transformers) (0.6.2)\n",
      "Requirement already satisfied: tqdm>=4.27 in c:\\users\\kstat\\rublimp\\.venv\\lib\\site-packages (from transformers) (4.67.1)\n",
      "Requirement already satisfied: pyarrow>=21.0.0 in c:\\users\\kstat\\rublimp\\.venv\\lib\\site-packages (from datasets) (21.0.0)\n",
      "Requirement already satisfied: dill<0.4.1,>=0.3.0 in c:\\users\\kstat\\rublimp\\.venv\\lib\\site-packages (from datasets) (0.4.0)\n",
      "Requirement already satisfied: pandas in c:\\users\\kstat\\rublimp\\.venv\\lib\\site-packages (from datasets) (2.3.2)\n",
      "Requirement already satisfied: xxhash in c:\\users\\kstat\\rublimp\\.venv\\lib\\site-packages (from datasets) (3.5.0)\n",
      "Requirement already satisfied: multiprocess<0.70.17 in c:\\users\\kstat\\rublimp\\.venv\\lib\\site-packages (from datasets) (0.70.16)\n",
      "Requirement already satisfied: fsspec<=2025.9.0,>=2023.1.0 in c:\\users\\kstat\\rublimp\\.venv\\lib\\site-packages (from fsspec[http]<=2025.9.0,>=2023.1.0->datasets) (2025.9.0)\n",
      "Requirement already satisfied: aiohttp!=4.0.0a0,!=4.0.0a1 in c:\\users\\kstat\\rublimp\\.venv\\lib\\site-packages (from fsspec[http]<=2025.9.0,>=2023.1.0->datasets) (3.12.15)\n",
      "Requirement already satisfied: typing-extensions>=3.7.4.3 in c:\\users\\kstat\\rublimp\\.venv\\lib\\site-packages (from huggingface-hub<1.0,>=0.34.0->transformers) (4.15.0)\n",
      "Requirement already satisfied: charset_normalizer<4,>=2 in c:\\users\\kstat\\rublimp\\.venv\\lib\\site-packages (from requests->transformers) (3.4.3)\n",
      "Requirement already satisfied: idna<4,>=2.5 in c:\\users\\kstat\\rublimp\\.venv\\lib\\site-packages (from requests->transformers) (3.10)\n",
      "Requirement already satisfied: urllib3<3,>=1.21.1 in c:\\users\\kstat\\rublimp\\.venv\\lib\\site-packages (from requests->transformers) (2.5.0)\n",
      "Requirement already satisfied: certifi>=2017.4.17 in c:\\users\\kstat\\rublimp\\.venv\\lib\\site-packages (from requests->transformers) (2025.8.3)\n",
      "Requirement already satisfied: colorama in c:\\users\\kstat\\rublimp\\.venv\\lib\\site-packages (from tqdm>=4.27->transformers) (0.4.6)\n",
      "Requirement already satisfied: python-dateutil>=2.8.2 in c:\\users\\kstat\\rublimp\\.venv\\lib\\site-packages (from pandas->datasets) (2.9.0.post0)\n",
      "Requirement already satisfied: pytz>=2020.1 in c:\\users\\kstat\\rublimp\\.venv\\lib\\site-packages (from pandas->datasets) (2025.2)\n",
      "Requirement already satisfied: tzdata>=2022.7 in c:\\users\\kstat\\rublimp\\.venv\\lib\\site-packages (from pandas->datasets) (2025.2)\n",
      "Requirement already satisfied: aiohappyeyeballs>=2.5.0 in c:\\users\\kstat\\rublimp\\.venv\\lib\\site-packages (from aiohttp!=4.0.0a0,!=4.0.0a1->fsspec[http]<=2025.9.0,>=2023.1.0->datasets) (2.6.1)\n",
      "Requirement already satisfied: aiosignal>=1.4.0 in c:\\users\\kstat\\rublimp\\.venv\\lib\\site-packages (from aiohttp!=4.0.0a0,!=4.0.0a1->fsspec[http]<=2025.9.0,>=2023.1.0->datasets) (1.4.0)\n",
      "Requirement already satisfied: attrs>=17.3.0 in c:\\users\\kstat\\rublimp\\.venv\\lib\\site-packages (from aiohttp!=4.0.0a0,!=4.0.0a1->fsspec[http]<=2025.9.0,>=2023.1.0->datasets) (25.3.0)\n",
      "Requirement already satisfied: frozenlist>=1.1.1 in c:\\users\\kstat\\rublimp\\.venv\\lib\\site-packages (from aiohttp!=4.0.0a0,!=4.0.0a1->fsspec[http]<=2025.9.0,>=2023.1.0->datasets) (1.7.0)\n",
      "Requirement already satisfied: multidict<7.0,>=4.5 in c:\\users\\kstat\\rublimp\\.venv\\lib\\site-packages (from aiohttp!=4.0.0a0,!=4.0.0a1->fsspec[http]<=2025.9.0,>=2023.1.0->datasets) (6.6.4)\n",
      "Requirement already satisfied: propcache>=0.2.0 in c:\\users\\kstat\\rublimp\\.venv\\lib\\site-packages (from aiohttp!=4.0.0a0,!=4.0.0a1->fsspec[http]<=2025.9.0,>=2023.1.0->datasets) (0.3.2)\n",
      "Requirement already satisfied: yarl<2.0,>=1.17.0 in c:\\users\\kstat\\rublimp\\.venv\\lib\\site-packages (from aiohttp!=4.0.0a0,!=4.0.0a1->fsspec[http]<=2025.9.0,>=2023.1.0->datasets) (1.20.1)\n",
      "Requirement already satisfied: six>=1.5 in c:\\users\\kstat\\rublimp\\.venv\\lib\\site-packages (from python-dateutil>=2.8.2->pandas->datasets) (1.17.0)\n"
     ]
    },
    {
     "name": "stderr",
     "output_type": "stream",
     "text": [
      "\n",
      "[notice] A new release of pip is available: 24.0 -> 25.2\n",
      "[notice] To update, run: python.exe -m pip install --upgrade pip\n"
     ]
    }
   ],
   "source": [
    "!pip install -U transformers datasets"
   ]
  },
  {
   "cell_type": "code",
   "execution_count": 2,
   "metadata": {},
   "outputs": [
    {
     "name": "stdout",
     "output_type": "stream",
     "text": [
      "c:\\Users\\kstat\\RuBLiMP\n"
     ]
    }
   ],
   "source": [
    "%cd ../"
   ]
  },
  {
   "cell_type": "markdown",
   "metadata": {
    "id": "4RE2mA8ALDFS"
   },
   "source": [
    "## An example for scoring an encoder LM on RuBLiMP\n",
    "\n",
    "Here, we show how to score an encoder and decoder LM not decontaminated with RuBLiMP (that is, an external LM of interest) using a dataset sample.\n"
   ]
  },
  {
   "cell_type": "code",
   "execution_count": 3,
   "metadata": {
    "colab": {
     "base_uri": "https://localhost:8080/",
     "height": 189
    },
    "id": "2MKO-qyELWdl",
    "outputId": "69b71f66-0f9a-4c13-a3ff-3957f3ee9f08"
   },
   "outputs": [
    {
     "name": "stderr",
     "output_type": "stream",
     "text": [
      "c:\\Users\\kstat\\RuBLiMP\\.venv\\Lib\\site-packages\\tqdm\\auto.py:21: TqdmWarning: IProgress not found. Please update jupyter and ipywidgets. See https://ipywidgets.readthedocs.io/en/stable/user_install.html\n",
      "  from .autonotebook import tqdm as notebook_tqdm\n"
     ]
    },
    {
     "data": {
      "text/html": [
       "<div>\n",
       "<style scoped>\n",
       "    .dataframe tbody tr th:only-of-type {\n",
       "        vertical-align: middle;\n",
       "    }\n",
       "\n",
       "    .dataframe tbody tr th {\n",
       "        vertical-align: top;\n",
       "    }\n",
       "\n",
       "    .dataframe thead th {\n",
       "        text-align: right;\n",
       "    }\n",
       "</style>\n",
       "<table border=\"1\" class=\"dataframe\">\n",
       "  <thead>\n",
       "    <tr style=\"text-align: right;\">\n",
       "      <th></th>\n",
       "      <th>id</th>\n",
       "      <th>source_sentence</th>\n",
       "      <th>target_sentence</th>\n",
       "      <th>source_word</th>\n",
       "      <th>target_word</th>\n",
       "      <th>level</th>\n",
       "      <th>phenomenon</th>\n",
       "      <th>PID</th>\n",
       "      <th>subtype</th>\n",
       "      <th>domain</th>\n",
       "      <th>tree_depth</th>\n",
       "    </tr>\n",
       "  </thead>\n",
       "  <tbody>\n",
       "    <tr>\n",
       "      <th>0</th>\n",
       "      <td>132968</td>\n",
       "      <td>Руками обхватила широкие плечи Окота.</td>\n",
       "      <td>Руками обхватила широкие плечники Окота.</td>\n",
       "      <td>плечи</td>\n",
       "      <td>плечники</td>\n",
       "      <td>Morphology</td>\n",
       "      <td>Word Formation</td>\n",
       "      <td>add_new_suffix</td>\n",
       "      <td>add_new_suffix</td>\n",
       "      <td>librusec</td>\n",
       "      <td>2</td>\n",
       "    </tr>\n",
       "    <tr>\n",
       "      <th>1</th>\n",
       "      <td>211801</td>\n",
       "      <td>Под левый сосок в междуреберье.</td>\n",
       "      <td>Под левый сосокщик в междуреберье.</td>\n",
       "      <td>сосок</td>\n",
       "      <td>сосокщик</td>\n",
       "      <td>Morphology</td>\n",
       "      <td>Word Formation</td>\n",
       "      <td>add_new_suffix</td>\n",
       "      <td>add_new_suffix</td>\n",
       "      <td>librusec</td>\n",
       "      <td>2</td>\n",
       "    </tr>\n",
       "    <tr>\n",
       "      <th>2</th>\n",
       "      <td>168527</td>\n",
       "      <td>Спуск темною ночью в Никиту...</td>\n",
       "      <td>Спуск темоватною ночью в Никиту...</td>\n",
       "      <td>темною</td>\n",
       "      <td>темоватною</td>\n",
       "      <td>Morphology</td>\n",
       "      <td>Word Formation</td>\n",
       "      <td>add_new_suffix</td>\n",
       "      <td>add_new_suffix</td>\n",
       "      <td>librusec</td>\n",
       "      <td>3</td>\n",
       "    </tr>\n",
       "  </tbody>\n",
       "</table>\n",
       "</div>"
      ],
      "text/plain": [
       "       id                        source_sentence  \\\n",
       "0  132968  Руками обхватила широкие плечи Окота.   \n",
       "1  211801        Под левый сосок в междуреберье.   \n",
       "2  168527         Спуск темною ночью в Никиту...   \n",
       "\n",
       "                            target_sentence source_word target_word  \\\n",
       "0  Руками обхватила широкие плечники Окота.       плечи    плечники   \n",
       "1        Под левый сосокщик в междуреберье.       сосок    сосокщик   \n",
       "2        Спуск темоватною ночью в Никиту...      темною  темоватною   \n",
       "\n",
       "        level      phenomenon             PID         subtype    domain  \\\n",
       "0  Morphology  Word Formation  add_new_suffix  add_new_suffix  librusec   \n",
       "1  Morphology  Word Formation  add_new_suffix  add_new_suffix  librusec   \n",
       "2  Morphology  Word Formation  add_new_suffix  add_new_suffix  librusec   \n",
       "\n",
       "   tree_depth  \n",
       "0           2  \n",
       "1           2  \n",
       "2           3  "
      ]
     },
     "execution_count": 3,
     "metadata": {},
     "output_type": "execute_result"
    }
   ],
   "source": [
    "from datasets import load_dataset\n",
    "\n",
    "\n",
    "add_new_suffix = load_dataset(\"RussianNLP/rublimp\", \"add_new_suffix\")\n",
    "add_new_suffix = add_new_suffix[\"train\"].to_pandas()\n",
    "add_new_suffix.head(3)"
   ]
  },
  {
   "cell_type": "code",
   "execution_count": 4,
   "metadata": {
    "id": "j2hZbT5zLeCD"
   },
   "outputs": [],
   "source": [
    "from src.scorer import *\n",
    "\n",
    "\n",
    "encoder_model_name = \"DeepPavlov/rubert-base-cased\"\n",
    "encoder_scorer = Scorer(model_name=encoder_model_name)"
   ]
  },
  {
   "cell_type": "code",
   "execution_count": 20,
   "metadata": {
    "id": "XRsR_95DL9Py"
   },
   "outputs": [
    {
     "name": "stderr",
     "output_type": "stream",
     "text": [
      "Scoring with: DeepPavlov/rubert-base-cased: 100%|██████████| 25/25 [01:16<00:00,  3.04s/it]\n"
     ]
    }
   ],
   "source": [
    "# scoring a dataset sample for illustration\n",
    "sample = encoder_scorer.run(pool=add_new_suffix.sample(25))"
   ]
  },
  {
   "cell_type": "code",
   "execution_count": 21,
   "metadata": {
    "colab": {
     "base_uri": "https://localhost:8080/"
    },
    "id": "9Q5HJY-1MM5L",
    "outputId": "4dcbf793-13c2-4404-f72e-dc3f856c1947"
   },
   "outputs": [
    {
     "data": {
      "text/plain": [
       "np.float64(0.96)"
      ]
     },
     "execution_count": 21,
     "metadata": {},
     "output_type": "execute_result"
    }
   ],
   "source": [
    "# accuracy on the dataset sample\n",
    "(\n",
    "    sample[\"DeepPavlov-rubert-base-cased-ppl-s\"]\n",
    "    > sample[\"DeepPavlov-rubert-base-cased-ppl-t\"]\n",
    ").mean()"
   ]
  },
  {
   "cell_type": "code",
   "execution_count": 6,
   "metadata": {},
   "outputs": [
    {
     "name": "stderr",
     "output_type": "stream",
     "text": [
      "Scoring with: DeepPavlov/rubert-base-cased: 100%|██████████| 1000/1000 [1:16:20<00:00,  4.58s/it]  \n"
     ]
    },
    {
     "name": "stdout",
     "output_type": "stream",
     "text": [
      "Accuracy on 'add_new_suffix' with ruBERT-base: 0.925\n"
     ]
    }
   ],
   "source": [
    "# for the whole dataset\n",
    "sample = encoder_scorer.run(pool=add_new_suffix)\n",
    "\n",
    "acc = (\n",
    "    sample[\"DeepPavlov-rubert-base-cased-ppl-s\"]\n",
    "    > sample[\"DeepPavlov-rubert-base-cased-ppl-t\"]\n",
    ").mean()\n",
    "\n",
    "print(f\"Accuracy on 'add_new_suffix' with ruBERT-base: {acc:.3f}\")"
   ]
  },
  {
   "cell_type": "code",
   "execution_count": 8,
   "metadata": {},
   "outputs": [
    {
     "name": "stdout",
     "output_type": "stream",
     "text": [
      "Requirement already satisfied: huggingface_hub[hf_xet] in c:\\users\\kstat\\rublimp\\.venv\\lib\\site-packages (0.35.0)\n",
      "Requirement already satisfied: filelock in c:\\users\\kstat\\rublimp\\.venv\\lib\\site-packages (from huggingface_hub[hf_xet]) (3.19.1)\n",
      "Requirement already satisfied: fsspec>=2023.5.0 in c:\\users\\kstat\\rublimp\\.venv\\lib\\site-packages (from huggingface_hub[hf_xet]) (2025.9.0)\n",
      "Requirement already satisfied: packaging>=20.9 in c:\\users\\kstat\\rublimp\\.venv\\lib\\site-packages (from huggingface_hub[hf_xet]) (25.0)\n",
      "Requirement already satisfied: pyyaml>=5.1 in c:\\users\\kstat\\rublimp\\.venv\\lib\\site-packages (from huggingface_hub[hf_xet]) (6.0.2)\n",
      "Requirement already satisfied: requests in c:\\users\\kstat\\rublimp\\.venv\\lib\\site-packages (from huggingface_hub[hf_xet]) (2.32.5)\n",
      "Requirement already satisfied: tqdm>=4.42.1 in c:\\users\\kstat\\rublimp\\.venv\\lib\\site-packages (from huggingface_hub[hf_xet]) (4.67.1)\n",
      "Requirement already satisfied: typing-extensions>=3.7.4.3 in c:\\users\\kstat\\rublimp\\.venv\\lib\\site-packages (from huggingface_hub[hf_xet]) (4.15.0)\n",
      "Requirement already satisfied: hf-xet<2.0.0,>=1.1.2 in c:\\users\\kstat\\rublimp\\.venv\\lib\\site-packages (from huggingface_hub[hf_xet]) (1.1.10)\n",
      "Requirement already satisfied: colorama in c:\\users\\kstat\\rublimp\\.venv\\lib\\site-packages (from tqdm>=4.42.1->huggingface_hub[hf_xet]) (0.4.6)\n",
      "Requirement already satisfied: charset_normalizer<4,>=2 in c:\\users\\kstat\\rublimp\\.venv\\lib\\site-packages (from requests->huggingface_hub[hf_xet]) (3.4.3)\n",
      "Requirement already satisfied: idna<4,>=2.5 in c:\\users\\kstat\\rublimp\\.venv\\lib\\site-packages (from requests->huggingface_hub[hf_xet]) (3.10)\n",
      "Requirement already satisfied: urllib3<3,>=1.21.1 in c:\\users\\kstat\\rublimp\\.venv\\lib\\site-packages (from requests->huggingface_hub[hf_xet]) (2.5.0)\n",
      "Requirement already satisfied: certifi>=2017.4.17 in c:\\users\\kstat\\rublimp\\.venv\\lib\\site-packages (from requests->huggingface_hub[hf_xet]) (2025.8.3)\n"
     ]
    },
    {
     "name": "stderr",
     "output_type": "stream",
     "text": [
      "\n",
      "[notice] A new release of pip is available: 24.0 -> 25.2\n",
      "[notice] To update, run: python.exe -m pip install --upgrade pip\n"
     ]
    }
   ],
   "source": [
    "!pip install huggingface_hub[hf_xet]"
   ]
  },
  {
   "cell_type": "code",
   "execution_count": 22,
   "metadata": {},
   "outputs": [],
   "source": [
    "from src.scorer import *\n",
    "decoder_model_name = \"ai-forever/rugpt3small_based_on_gpt2\"\n",
    "decoder_scorer = Scorer(model_name=decoder_model_name)"
   ]
  },
  {
   "cell_type": "code",
   "execution_count": 23,
   "metadata": {
    "id": "yNsU2ssPNvS0"
   },
   "outputs": [
    {
     "name": "stderr",
     "output_type": "stream",
     "text": [
      "Scoring with: ai-forever/rugpt3small_based_on_gpt2: 100%|██████████| 25/25 [00:03<00:00,  7.19it/s]\n"
     ]
    }
   ],
   "source": [
    "# scoring a dataset sample for illustration\n",
    "sample = decoder_scorer.run(pool=add_new_suffix.sample(25))"
   ]
  },
  {
   "cell_type": "code",
   "execution_count": 25,
   "metadata": {},
   "outputs": [
    {
     "data": {
      "text/plain": [
       "np.float64(0.92)"
      ]
     },
     "execution_count": 25,
     "metadata": {},
     "output_type": "execute_result"
    }
   ],
   "source": [
    "# accuracy on the dataset sample\n",
    "(\n",
    "    sample[\"rugpt-s-ppl-s\"] < sample[\"rugpt-s-ppl-t\"]\n",
    ").mean()"
   ]
  }
 ],
 "metadata": {
  "accelerator": "GPU",
  "colab": {
   "gpuType": "A100",
   "machine_shape": "hm",
   "provenance": []
  },
  "kernelspec": {
   "display_name": ".venv",
   "language": "python",
   "name": "python3"
  },
  "language_info": {
   "codemirror_mode": {
    "name": "ipython",
    "version": 3
   },
   "file_extension": ".py",
   "mimetype": "text/x-python",
   "name": "python",
   "nbconvert_exporter": "python",
   "pygments_lexer": "ipython3",
   "version": "3.12.4"
  }
 },
 "nbformat": 4,
 "nbformat_minor": 0
}
