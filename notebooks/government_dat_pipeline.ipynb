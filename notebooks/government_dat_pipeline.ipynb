{
 "cells": [
  {
   "cell_type": "code",
   "execution_count": 1,
   "id": "70d6b59b",
   "metadata": {},
   "outputs": [
    {
     "name": "stdout",
     "output_type": "stream",
     "text": [
      "c:\\Users\\kstat\\RuBLiMP\\src\n"
     ]
    }
   ],
   "source": [
    "%cd ../src"
   ]
  },
  {
   "cell_type": "code",
   "execution_count": 2,
   "id": "ca7ce6f5",
   "metadata": {},
   "outputs": [
    {
     "name": "stdout",
     "output_type": "stream",
     "text": [
      "Note: you may need to restart the kernel to use updated packages.\n"
     ]
    },
    {
     "name": "stderr",
     "output_type": "stream",
     "text": [
      "\n",
      "[notice] A new release of pip is available: 24.0 -> 25.2\n",
      "[notice] To update, run: python.exe -m pip install --upgrade pip\n"
     ]
    },
    {
     "name": "stdout",
     "output_type": "stream",
     "text": [
      "Note: you may need to restart the kernel to use updated packages.\n"
     ]
    },
    {
     "name": "stderr",
     "output_type": "stream",
     "text": [
      "\n",
      "[notice] A new release of pip is available: 24.0 -> 25.2\n",
      "[notice] To update, run: python.exe -m pip install --upgrade pip\n"
     ]
    }
   ],
   "source": [
    "%pip install -q pandas transformers datasets sentencepiece\n",
    "%pip install -q pymorphy2 conllu razdel sentence-transformers\n"
   ]
  },
  {
   "cell_type": "code",
   "execution_count": 3,
   "id": "d26afe01",
   "metadata": {},
   "outputs": [
    {
     "name": "stderr",
     "output_type": "stream",
     "text": [
      "c:\\Users\\kstat\\RuBLiMP\\.venv\\Lib\\site-packages\\pymorphy2\\analyzer.py:114: UserWarning: pkg_resources is deprecated as an API. See https://setuptools.pypa.io/en/latest/pkg_resources.html. The pkg_resources package is slated for removal as early as 2025-11-30. Refrain from using this package or pin to Setuptools<81.\n",
      "  import pkg_resources\n",
      "\n",
      "0it [00:00, ?it/s]\n",
      "54it [00:00, 513.89it/s]\n",
      "106it [00:00, 449.58it/s]\n",
      "152it [00:00, 453.74it/s]\n",
      "241it [00:00, 614.70it/s]\n",
      "307it [00:00, 623.69it/s]\n",
      "371it [00:00, 568.91it/s]\n",
      "440it [00:00, 599.38it/s]\n",
      "501it [00:00, 594.45it/s]\n",
      "562it [00:01, 522.35it/s]\n",
      "638it [00:01, 581.75it/s]\n",
      "699it [00:01, 575.50it/s]\n",
      "758it [00:01, 520.19it/s]\n",
      "812it [00:01, 494.71it/s]\n",
      "863it [00:01, 494.79it/s]\n",
      "914it [00:01, 428.39it/s]\n",
      "959it [00:01, 331.45it/s]\n",
      "997it [00:02, 312.73it/s]\n",
      "1032it [00:02, 314.08it/s]\n",
      "1078it [00:02, 347.53it/s]\n",
      "1130it [00:02, 387.34it/s]\n",
      "1172it [00:02, 306.60it/s]\n",
      "1207it [00:02, 296.06it/s]\n",
      "1240it [00:02, 297.77it/s]\n",
      "1287it [00:02, 339.54it/s]\n",
      "1324it [00:03, 302.56it/s]\n",
      "1357it [00:03, 297.45it/s]\n",
      "1418it [00:03, 375.17it/s]\n",
      "1476it [00:03, 428.40it/s]\n",
      "1525it [00:03, 444.66it/s]\n",
      "1572it [00:03, 427.93it/s]\n",
      "1625it [00:03, 455.43it/s]\n",
      "1680it [00:03, 478.66it/s]\n",
      "1730it [00:03, 484.48it/s]\n",
      "1792it [00:04, 521.95it/s]\n",
      "1854it [00:04, 538.52it/s]\n",
      "1923it [00:04, 578.09it/s]\n",
      "1991it [00:04, 606.60it/s]\n",
      "2071it [00:04, 651.63it/s]\n",
      "2137it [00:04, 550.42it/s]\n",
      "2195it [00:04, 531.68it/s]\n",
      "2251it [00:04, 527.70it/s]\n",
      "2306it [00:05, 520.12it/s]\n",
      "2359it [00:05, 512.17it/s]\n",
      "2411it [00:05, 467.00it/s]\n",
      "2477it [00:05, 515.31it/s]\n",
      "2549it [00:05, 570.63it/s]\n",
      "2608it [00:05, 550.06it/s]\n",
      "2671it [00:05, 569.33it/s]\n",
      "2742it [00:05, 607.03it/s]\n",
      "2831it [00:05, 683.40it/s]\n",
      "2901it [00:05, 660.27it/s]\n",
      "2968it [00:06, 625.55it/s]\n",
      "3032it [00:06, 544.22it/s]\n",
      "3089it [00:06, 495.30it/s]\n",
      "3141it [00:06, 381.65it/s]\n",
      "3184it [00:06, 370.53it/s]\n",
      "3229it [00:06, 387.24it/s]\n",
      "3271it [00:06, 393.48it/s]\n",
      "3327it [00:07, 431.53it/s]\n",
      "3373it [00:07, 404.48it/s]\n",
      "3451it [00:07, 497.81it/s]\n",
      "3514it [00:07, 529.50it/s]\n",
      "3591it [00:07, 592.82it/s]\n",
      "3664it [00:07, 630.63it/s]\n",
      "3740it [00:07, 667.47it/s]\n",
      "3810it [00:07, 673.45it/s]\n",
      "3892it [00:07, 714.79it/s]\n",
      "3965it [00:08, 644.40it/s]\n",
      "4032it [00:08, 603.69it/s]\n",
      "4094it [00:08, 586.88it/s]\n",
      "4171it [00:08, 633.19it/s]\n",
      "4252it [00:08, 673.22it/s]\n",
      "4321it [00:08, 626.70it/s]\n",
      "4385it [00:08, 628.89it/s]\n",
      "4449it [00:08, 594.90it/s]\n",
      "4544it [00:08, 690.86it/s]\n",
      "4615it [00:09, 696.21it/s]\n",
      "4686it [00:09, 650.18it/s]\n",
      "4753it [00:09, 582.23it/s]\n",
      "4820it [00:09, 591.00it/s]\n",
      "4914it [00:09, 681.85it/s]\n",
      "4997it [00:09, 705.09it/s]\n",
      "5070it [00:09, 677.51it/s]\n",
      "5139it [00:09, 597.37it/s]\n",
      "5201it [00:10, 536.39it/s]\n",
      "5269it [00:10, 571.41it/s]\n",
      "5329it [00:10, 548.53it/s]\n",
      "5391it [00:10, 566.19it/s]\n",
      "5459it [00:10, 591.20it/s]\n",
      "5526it [00:10, 612.00it/s]\n",
      "5589it [00:10, 567.77it/s]\n",
      "5647it [00:10, 563.50it/s]\n",
      "5705it [00:10, 528.21it/s]\n",
      "5759it [00:11, 530.70it/s]\n",
      "5813it [00:11, 518.56it/s]\n",
      "5875it [00:11, 543.82it/s]\n",
      "5930it [00:11, 535.50it/s]\n",
      "5984it [00:11, 484.71it/s]\n",
      "6034it [00:11, 484.77it/s]\n",
      "6084it [00:11, 488.87it/s]\n",
      "6134it [00:11, 465.44it/s]\n",
      "6186it [00:11, 480.11it/s]\n",
      "6275it [00:12, 592.72it/s]\n",
      "6358it [00:12, 659.61it/s]\n",
      "6438it [00:12, 699.20it/s]\n",
      "6509it [00:12, 701.97it/s]\n",
      "6594it [00:12, 744.71it/s]\n",
      "6669it [00:12, 639.57it/s]\n",
      "6736it [00:12, 610.69it/s]\n",
      "6800it [00:12, 580.28it/s]\n",
      "6865it [00:12, 597.37it/s]\n",
      "6927it [00:13, 543.16it/s]\n",
      "6983it [00:13, 508.78it/s]\n",
      "7043it [00:13, 531.65it/s]\n",
      "7098it [00:13, 509.93it/s]\n",
      "7150it [00:13, 509.90it/s]\n",
      "7202it [00:13, 490.15it/s]\n",
      "7276it [00:13, 555.66it/s]\n",
      "7354it [00:13, 617.10it/s]\n",
      "7426it [00:13, 646.26it/s]\n",
      "7502it [00:14, 672.07it/s]\n",
      "7570it [00:14, 652.04it/s]\n",
      "7636it [00:14, 637.88it/s]\n",
      "7701it [00:14, 576.65it/s]\n",
      "7815it [00:14, 723.80it/s]\n",
      "7890it [00:14, 710.06it/s]\n",
      "7963it [00:14, 682.99it/s]\n",
      "8060it [00:14, 758.38it/s]\n",
      "8138it [00:15, 640.70it/s]\n",
      "8206it [00:15, 633.19it/s]\n",
      "8272it [00:15, 633.32it/s]\n",
      "8352it [00:15, 677.07it/s]\n",
      "8422it [00:15, 599.77it/s]\n",
      "8501it [00:15, 648.34it/s]\n",
      "8573it [00:15, 666.20it/s]\n",
      "8642it [00:15, 659.57it/s]\n",
      "8714it [00:15, 672.57it/s]\n",
      "8783it [00:16, 673.77it/s]\n",
      "8852it [00:16, 667.90it/s]\n",
      "8906it [00:16, 549.35it/s]\n"
     ]
    }
   ],
   "source": [
    "!python ./generator.py --phenomenon government \\\n",
    "  --data_fname ./ru_syntagrus-ud-dev.conllu \\\n",
    "  --output_fdir_name ./generated_data"
   ]
  },
  {
   "cell_type": "code",
   "execution_count": 4,
   "id": "aa9e23c7",
   "metadata": {},
   "outputs": [
    {
     "name": "stderr",
     "output_type": "stream",
     "text": [
      "\"ls\" �� ���� ����७��� ��� ���譥�\n",
      "��������, �ᯮ��塞�� �ணࠬ��� ��� ������ 䠩���.\n"
     ]
    }
   ],
   "source": [
    "!ls generated_data/*/"
   ]
  },
  {
   "cell_type": "code",
   "execution_count": 5,
   "id": "14891e6d",
   "metadata": {},
   "outputs": [],
   "source": [
    "import pandas as pd\n",
    "government = pd.read_csv(\n",
    "    \"generated_data/government/ru_syntagrus-ud-dev.conllu.tsv\", sep=\"\\t\"\n",
    ")"
   ]
  },
  {
   "cell_type": "code",
   "execution_count": 6,
   "id": "db8102ba",
   "metadata": {},
   "outputs": [
    {
     "data": {
      "text/plain": [
       "phenomenon_subtype\n",
       "verb_acc_object        2871\n",
       "adp_government_case    1835\n",
       "nominalization_case     822\n",
       "verb_dat_object         326\n",
       "verb_gen_object          42\n",
       "verb_ins_object           6\n",
       "Name: count, dtype: int64"
      ]
     },
     "execution_count": 6,
     "metadata": {},
     "output_type": "execute_result"
    }
   ],
   "source": [
    "government.phenomenon_subtype.value_counts()"
   ]
  },
  {
   "cell_type": "code",
   "execution_count": 7,
   "id": "c806b8f6",
   "metadata": {},
   "outputs": [
    {
     "name": "stdout",
     "output_type": "stream",
     "text": [
      "Number of files: 1\n",
      "Number of pairs: 5902\n"
     ]
    }
   ],
   "source": [
    "import glob, pandas as pd\n",
    "\n",
    "paths = glob.glob(\"./generated_data/government/*.tsv\")\n",
    "print(\"Number of files:\", len(paths))\n",
    "assert paths, \"No files in ./generated_data/government/\"\n",
    "\n",
    "df = pd.concat((pd.read_csv(p, sep=\"\\t\") for p in paths), ignore_index=True)\n",
    "print(\"Number of pairs:\", len(df))\n"
   ]
  },
  {
   "cell_type": "code",
   "execution_count": 17,
   "id": "b42526e6",
   "metadata": {},
   "outputs": [
    {
     "name": "stdout",
     "output_type": "stream",
     "text": [
      "Number of pairs: 326\n"
     ]
    },
    {
     "data": {
      "text/html": [
       "<div>\n",
       "<style scoped>\n",
       "    .dataframe tbody tr th:only-of-type {\n",
       "        vertical-align: middle;\n",
       "    }\n",
       "\n",
       "    .dataframe tbody tr th {\n",
       "        vertical-align: top;\n",
       "    }\n",
       "\n",
       "    .dataframe thead th {\n",
       "        text-align: right;\n",
       "    }\n",
       "</style>\n",
       "<table border=\"1\" class=\"dataframe\">\n",
       "  <thead>\n",
       "    <tr style=\"text-align: right;\">\n",
       "      <th></th>\n",
       "      <th>source_sentence</th>\n",
       "      <th>target_sentence</th>\n",
       "    </tr>\n",
       "  </thead>\n",
       "  <tbody>\n",
       "    <tr>\n",
       "      <th>3231</th>\n",
       "      <td>И если омоновцы хватают лимоновцев (а после решения прокуратуры у них прибавилось для этого законных оснований), то теперь им сочувствуют не только идейные сторонники, но и многие либералы, которые в конце 90-х годов считали членов НБП фашистами (и имели для такой оценки все основания).</td>\n",
       "      <td>И если омоновцы хватают лимоновцев (а после решения прокуратуры у них прибавилось для этого законных оснований), то теперь ими сочувствуют не только идейные сторонники, но и многие либералы, которые в конце 90-х годов считали членов НБП фашистами (и имели для такой оценки все основания).</td>\n",
       "    </tr>\n",
       "    <tr>\n",
       "      <th>5577</th>\n",
       "      <td>Они задумчиво лежали на земле, и катиться им просто не приходило в голову.</td>\n",
       "      <td>Они задумчиво лежали на земле, и катиться ими просто не приходило в голову.</td>\n",
       "    </tr>\n",
       "    <tr>\n",
       "      <th>1682</th>\n",
       "      <td>В 8 утра на сотом дубле он говорит им: все прекрасно, давайте еще разок попробуем.</td>\n",
       "      <td>В 8 утра на сотом дубле он говорит ими: все прекрасно, давайте еще разок попробуем.</td>\n",
       "    </tr>\n",
       "    <tr>\n",
       "      <th>1614</th>\n",
       "      <td>До каких пределов отечественный рынок будет падать, не берется сказать ни один эксперт, но большинство не советуют россиянам вкладывать сейчас деньги в акции.</td>\n",
       "      <td>До каких пределов отечественный рынок будет падать, не берется сказать ни один эксперт, но большинство не советуют россиянами вкладывать сейчас деньги в акции.</td>\n",
       "    </tr>\n",
       "    <tr>\n",
       "      <th>5843</th>\n",
       "      <td>Не говоря уже о том, что при среднегодовой цене в три сотни долларов за тысячу кубометров использовать газ так бездумно там просто никому не придет в голову.</td>\n",
       "      <td>Не говоря уже о том, что при среднегодовой цене в три сотни долларов за тысячу кубометров использовать газ так бездумно там просто никем не придет в голову.</td>\n",
       "    </tr>\n",
       "    <tr>\n",
       "      <th>543</th>\n",
       "      <td>Так сын уже помогал отцу переплывать время и причаливать к вечеру.</td>\n",
       "      <td>Так сын уже помогал отцом переплывать время и причаливать к вечеру.</td>\n",
       "    </tr>\n",
       "    <tr>\n",
       "      <th>2549</th>\n",
       "      <td>Говорю ему, что хочу провести эксперимент на орбите, чтобы решить какую-нибудь проблему астрофизики.</td>\n",
       "      <td>Говорю нем, что хочу провести эксперимент на орбите, чтобы решить какую-нибудь проблему астрофизики.</td>\n",
       "    </tr>\n",
       "    <tr>\n",
       "      <th>3408</th>\n",
       "      <td>По такому же принципу действовал, видимо, и выносивший приговор председатель Ленинского народного суда В. Павлов: в зале суда подсудимому надели наручники и отправили по этапу.</td>\n",
       "      <td>По такому же принципу действовал, видимо, и выносивший приговор председатель Ленинского народного суда В. Павлов: в зале суда подсудимом надели наручники и отправили по этапу.</td>\n",
       "    </tr>\n",
       "    <tr>\n",
       "      <th>2069</th>\n",
       "      <td>В конце своей книги Галилей с явной иронией выражает надежду, что его сочинение поможет Инголи заменить его возражения против коперниканства на другие, более соответствующие науке.</td>\n",
       "      <td>В конце своей книги Галилей с явной иронией выражает надежду, что его сочинение поможет Инголи заменить его возражения против коперниканства на другие, более соответствующие наукой.</td>\n",
       "    </tr>\n",
       "    <tr>\n",
       "      <th>1851</th>\n",
       "      <td>Как-то мне сказали: ничего, скоро будут специальные чипы.</td>\n",
       "      <td>Как-то мной сказали: ничего, скоро будут специальные чипы.</td>\n",
       "    </tr>\n",
       "  </tbody>\n",
       "</table>\n",
       "</div>"
      ],
      "text/plain": [
       "                                                                                                                                                                                                                                                                                      source_sentence  \\\n",
       "3231  И если омоновцы хватают лимоновцев (а после решения прокуратуры у них прибавилось для этого законных оснований), то теперь им сочувствуют не только идейные сторонники, но и многие либералы, которые в конце 90-х годов считали членов НБП фашистами (и имели для такой оценки все основания).   \n",
       "5577                                                                                                                                                                                                                       Они задумчиво лежали на земле, и катиться им просто не приходило в голову.   \n",
       "1682                                                                                                                                                                                                               В 8 утра на сотом дубле он говорит им: все прекрасно, давайте еще разок попробуем.   \n",
       "1614                                                                                                                                   До каких пределов отечественный рынок будет падать, не берется сказать ни один эксперт, но большинство не советуют россиянам вкладывать сейчас деньги в акции.   \n",
       "5843                                                                                                                                    Не говоря уже о том, что при среднегодовой цене в три сотни долларов за тысячу кубометров использовать газ так бездумно там просто никому не придет в голову.   \n",
       "543                                                                                                                                                                                                                                Так сын уже помогал отцу переплывать время и причаливать к вечеру.   \n",
       "2549                                                                                                                                                                                             Говорю ему, что хочу провести эксперимент на орбите, чтобы решить какую-нибудь проблему астрофизики.   \n",
       "3408                                                                                                                 По такому же принципу действовал, видимо, и выносивший приговор председатель Ленинского народного суда В. Павлов: в зале суда подсудимому надели наручники и отправили по этапу.   \n",
       "2069                                                                                                             В конце своей книги Галилей с явной иронией выражает надежду, что его сочинение поможет Инголи заменить его возражения против коперниканства на другие, более соответствующие науке.   \n",
       "1851                                                                                                                                                                                                                                        Как-то мне сказали: ничего, скоро будут специальные чипы.   \n",
       "\n",
       "                                                                                                                                                                                                                                                                                       target_sentence  \n",
       "3231  И если омоновцы хватают лимоновцев (а после решения прокуратуры у них прибавилось для этого законных оснований), то теперь ими сочувствуют не только идейные сторонники, но и многие либералы, которые в конце 90-х годов считали членов НБП фашистами (и имели для такой оценки все основания).  \n",
       "5577                                                                                                                                                                                                                       Они задумчиво лежали на земле, и катиться ими просто не приходило в голову.  \n",
       "1682                                                                                                                                                                                                               В 8 утра на сотом дубле он говорит ими: все прекрасно, давайте еще разок попробуем.  \n",
       "1614                                                                                                                                   До каких пределов отечественный рынок будет падать, не берется сказать ни один эксперт, но большинство не советуют россиянами вкладывать сейчас деньги в акции.  \n",
       "5843                                                                                                                                      Не говоря уже о том, что при среднегодовой цене в три сотни долларов за тысячу кубометров использовать газ так бездумно там просто никем не придет в голову.  \n",
       "543                                                                                                                                                                                                                                Так сын уже помогал отцом переплывать время и причаливать к вечеру.  \n",
       "2549                                                                                                                                                                                              Говорю нем, что хочу провести эксперимент на орбите, чтобы решить какую-нибудь проблему астрофизики.  \n",
       "3408                                                                                                                   По такому же принципу действовал, видимо, и выносивший приговор председатель Ленинского народного суда В. Павлов: в зале суда подсудимом надели наручники и отправили по этапу.  \n",
       "2069                                                                                                             В конце своей книги Галилей с явной иронией выражает надежду, что его сочинение поможет Инголи заменить его возражения против коперниканства на другие, более соответствующие наукой.  \n",
       "1851                                                                                                                                                                                                                                        Как-то мной сказали: ничего, скоро будут специальные чипы.  "
      ]
     },
     "execution_count": 17,
     "metadata": {},
     "output_type": "execute_result"
    }
   ],
   "source": [
    "import pandas as pd\n",
    "\n",
    "pd.set_option(\"display.max_colwidth\", None)\n",
    "pd.set_option(\"display.max_rows\", 50)\n",
    "\n",
    "df_dat = df[df[\"phenomenon_subtype\"] == \"verb_dat_object\"].copy()\n",
    "print(\"Number of pairs:\", len(df_dat))\n",
    "df_dat[[\"source_sentence\", \"target_sentence\"]].sample(10)\n",
    "\n"
   ]
  },
  {
   "cell_type": "code",
   "execution_count": 10,
   "id": "a68a799c",
   "metadata": {},
   "outputs": [
    {
     "data": {
      "text/plain": [
       "'../generated_data/government_dat_only.csv'"
      ]
     },
     "execution_count": 10,
     "metadata": {},
     "output_type": "execute_result"
    }
   ],
   "source": [
    "out_dat = \"../generated_data/government_dat_only.csv\"\n",
    "df_dat.to_csv(out_dat, index=False, encoding=\"utf-8\")\n",
    "out_dat\n"
   ]
  },
  {
   "cell_type": "code",
   "execution_count": 12,
   "id": "e3fe1b27",
   "metadata": {},
   "outputs": [
    {
     "name": "stdout",
     "output_type": "stream",
     "text": [
      "Current folder: c:\\Users\\kstat\\RuBLiMP\n"
     ]
    }
   ],
   "source": [
    "import os, sys\n",
    "\n",
    "if os.path.basename(os.getcwd()) in {\"notebooks\", \"src\"}:\n",
    "    os.chdir(\"..\")\n",
    "\n",
    "if os.getcwd() not in sys.path:\n",
    "    sys.path.insert(0, os.getcwd())\n",
    "\n",
    "print(\"Current folder:\", os.getcwd())\n"
   ]
  },
  {
   "cell_type": "code",
   "execution_count": 14,
   "id": "491da708",
   "metadata": {},
   "outputs": [
    {
     "name": "stderr",
     "output_type": "stream",
     "text": [
      "Scoring with: DeepPavlov/rubert-base-cased: 100%|██████████| 10/10 [02:26<00:00, 14.67s/it]\n"
     ]
    },
    {
     "data": {
      "text/plain": [
       "np.float64(1.0)"
      ]
     },
     "execution_count": 14,
     "metadata": {},
     "output_type": "execute_result"
    }
   ],
   "source": [
    "from src.scorer import *\n",
    "\n",
    "encoder_model_name = \"DeepPavlov/rubert-base-cased\"\n",
    "encoder_scorer = Scorer(model_name=encoder_model_name)\n",
    "\n",
    "sample = encoder_scorer.run(pool=df_dat.sample(10))\n",
    "\n",
    "(\n",
    "    sample[\"DeepPavlov-rubert-base-cased-ppl-s\"]\n",
    "    > sample[\"DeepPavlov-rubert-base-cased-ppl-t\"]\n",
    ").mean()\n"
   ]
  },
  {
   "cell_type": "code",
   "execution_count": 16,
   "id": "d8a34a8b",
   "metadata": {},
   "outputs": [
    {
     "name": "stderr",
     "output_type": "stream",
     "text": [
      "Scoring with: ai-forever/rugpt3small_based_on_gpt2: 100%|██████████| 10/10 [00:02<00:00,  3.34it/s]\n"
     ]
    },
    {
     "data": {
      "text/plain": [
       "np.float64(1.0)"
      ]
     },
     "execution_count": 16,
     "metadata": {},
     "output_type": "execute_result"
    }
   ],
   "source": [
    "decoder_model_name = \"ai-forever/rugpt3small_based_on_gpt2\"\n",
    "decoder_scorer = Scorer(model_name=decoder_model_name)\n",
    "\n",
    "sample = decoder_scorer.run(pool=df_dat.sample(10))\n",
    "(\n",
    "    sample[\"rugpt-s-ppl-s\"] < sample[\"rugpt-s-ppl-t\"]\n",
    ").mean()"
   ]
  }
 ],
 "metadata": {
  "kernelspec": {
   "display_name": ".venv",
   "language": "python",
   "name": "python3"
  },
  "language_info": {
   "codemirror_mode": {
    "name": "ipython",
    "version": 3
   },
   "file_extension": ".py",
   "mimetype": "text/x-python",
   "name": "python",
   "nbconvert_exporter": "python",
   "pygments_lexer": "ipython3",
   "version": "3.12.4"
  }
 },
 "nbformat": 4,
 "nbformat_minor": 5
}
